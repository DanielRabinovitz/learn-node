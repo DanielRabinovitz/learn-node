{
 "cells": [
  {
   "cell_type": "markdown",
   "metadata": {},
   "source": [
    "A callback: A thing you have seen before that is on your todo list.\n",
    "\n",
    "The event loop handles different types of call backs by running through a series of phases for specific types of tasks, then solving those categories one at a time. Each category is a phase of the event loop. Worker thread tasks happen outside of the event loop and their task results are used in the event callbacks.\n",
    "\n",
    "Event loop:\n",
    "\n",
    "-- Timers phase\n",
    "    -- Events that have a specific time or delay to execute at. E.g. \"do in 5 seconds\" or \"do at 3:00pm\"\n",
    "\n",
    "-- Pending callbacks\n",
    "    -- Events that were requested and are ready to be executed now\n",
    "\n",
    "-- Idle, Prepare\n",
    "    -- dw about it it's internal stuff\n",
    "\n",
    "-- Poll [STARTS HERE EVERY TIME]\n",
    "    -- most important\n",
    "    -- this is where outside I/O requests happen, e.g. HTTP requests.\n",
    "    -- This an event scheduler that puts requests into pending callbacks\n",
    "\n",
    "-- Check\n",
    "    -- Events that need to happen right now and can happen async.\n",
    "\n",
    "-- Close Callbacks\n",
    "    -- clean up any events you're done with\n",
    "\n",
    "Prioity of events:\n",
    "\n",
    "Are there any requests? (Poll)\n",
    "    |\n",
    "    V\n",
    "Are any of the requests ready to be completed? (Pending Callbacks)\n",
    "    |\n",
    "    V\n",
    "Check\n",
    "    |\n",
    "    V\n",
    "Timer \n",
    "\n",
    "You load up outside request firsts, do them when they're ready, then do events that need to happen now now, then events that are scheduled on a delay."
   ]
  }
 ],
 "metadata": {
  "language_info": {
   "name": "python"
  }
 },
 "nbformat": 4,
 "nbformat_minor": 2
}
